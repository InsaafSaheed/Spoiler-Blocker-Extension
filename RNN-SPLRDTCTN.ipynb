{
 "cells": [
  {
   "cell_type": "code",
   "execution_count": 1,
   "metadata": {
    "colab": {
     "base_uri": "https://localhost:8080/"
    },
    "executionInfo": {
     "elapsed": 23446,
     "status": "ok",
     "timestamp": 1690141745570,
     "user": {
      "displayName": "Insaaf Saheed",
      "userId": "03862033637043841962"
     },
     "user_tz": 240
    },
    "id": "VRiDJ6idiU3f",
    "outputId": "567892cd-90de-46c7-f406-e72730935e16"
   },
   "outputs": [],
   "source": [
    "import pandas as pd\n",
    "import numpy as np\n",
    "from keras.preprocessing.text import Tokenizer\n",
    "from keras_preprocessing.sequence import pad_sequences\n",
    "from keras.models import Sequential\n",
    "from keras.layers import Dense, Embedding, LSTM, SpatialDropout1D\n",
    "from sklearn.model_selection import train_test_split\n",
    "from keras.utils.np_utils import to_categorical\n",
    "import pickle\n",
    "import gc\n",
    "\n",
    "from tqdm import tqdm\n",
    "tqdm.pandas()"
   ]
  },
  {
   "cell_type": "code",
   "execution_count": 12,
   "metadata": {
    "id": "q_JDF66wk9pS"
   },
   "outputs": [],
   "source": [
    "\n",
    "movie_details = pd.read_csv('IMDB_movie_details_new.csv')\n",
    "reviews = pd.read_csv('IMDB_reviews_new.csv')"
   ]
  },
  {
   "cell_type": "code",
   "execution_count": 13,
   "metadata": {
    "colab": {
     "base_uri": "https://localhost:8080/"
    },
    "executionInfo": {
     "elapsed": 298,
     "status": "ok",
     "timestamp": 1690071836195,
     "user": {
      "displayName": "Insaaf Saheed",
      "userId": "03862033637043841962"
     },
     "user_tz": 240
    },
    "id": "HOHf1bullNwc",
    "outputId": "bf286092-a7ee-4b8e-c4eb-59c23dcb13d5"
   },
   "outputs": [
    {
     "data": {
      "text/plain": [
       "0"
      ]
     },
     "execution_count": 13,
     "metadata": {},
     "output_type": "execute_result"
    }
   ],
   "source": [
    "data = pd.merge(movie_details, reviews, on='movie_id')\n",
    "\n",
    "del movie_details, reviews\n",
    "\n",
    "gc.collect()"
   ]
  },
  {
   "cell_type": "code",
   "execution_count": 14,
   "metadata": {
    "id": "W1G3c9h_lUVY"
   },
   "outputs": [],
   "source": [
    "data = data[['review_text', 'is_spoiler']]\n",
    "\n",
    "# half_len = len(data) // 2\n",
    "# data = data[:half_len]"
   ]
  },
  {
   "cell_type": "code",
   "execution_count": 15,
   "metadata": {
    "colab": {
     "base_uri": "https://localhost:8080/"
    },
    "executionInfo": {
     "elapsed": 5430,
     "status": "ok",
     "timestamp": 1690071848589,
     "user": {
      "displayName": "Insaaf Saheed",
      "userId": "03862033637043841962"
     },
     "user_tz": 240
    },
    "id": "YTjS9HWClXS8",
    "outputId": "b70e07f3-80a9-4990-dd34-d87e65c33099"
   },
   "outputs": [
    {
     "name": "stderr",
     "output_type": "stream",
     "text": [
      "Fitting tokenizer: 100%|█████████████████████████████████████████████████████████| 5000/5000 [00:02<00:00, 1881.59it/s]\n"
     ]
    },
    {
     "name": "stdout",
     "output_type": "stream",
     "text": [
      "Number of tokens: 22239\n"
     ]
    },
    {
     "name": "stderr",
     "output_type": "stream",
     "text": [
      "Converting texts to sequences: 100%|█████████████████████████████████████████████| 5000/5000 [00:01<00:00, 3584.94it/s]\n"
     ]
    }
   ],
   "source": [
    "gc.collect()\n",
    "\n",
    "max_features = 5000\n",
    "tokenizer = Tokenizer(num_words=max_features, split=' ')\n",
    "texts = tqdm(data['review_text'].values, desc='Fitting tokenizer')\n",
    "tokenizer.fit_on_texts(texts)\n",
    "\n",
    "# Print the number of tokens\n",
    "num_tokens = len(tokenizer.word_index)\n",
    "print(\"Number of tokens:\", num_tokens)\n",
    "\n",
    "texts = tqdm(data['review_text'].values, desc='Converting texts to sequences')\n",
    "X = list(tokenizer.texts_to_sequences(texts))\n",
    "X = pad_sequences(X)"
   ]
  },
  {
   "cell_type": "code",
   "execution_count": 16,
   "metadata": {
    "id": "R9dXxKlBoPZQ"
   },
   "outputs": [],
   "source": [
    "\n",
    "gc.collect()\n",
    "\n",
    "embed_dim = 128\n",
    "lstm_out = 196"
   ]
  },
  {
   "cell_type": "code",
   "execution_count": 17,
   "metadata": {
    "id": "OR9sWWWnoe3p"
   },
   "outputs": [],
   "source": [
    "model = Sequential()\n",
    "model.add(Embedding(max_features, embed_dim, input_length = X.shape[1]))\n",
    "model.add(SpatialDropout1D(0.4))\n",
    "model.add(LSTM(lstm_out, dropout=0.2, recurrent_dropout=0.2))\n",
    "model.add(Dense(2, activation='softmax')) # We use softmax for multi-class classification, change to sigmoid for binary classification\n",
    "model.compile(loss='categorical_crossentropy', optimizer='adam', metrics=['accuracy'])"
   ]
  },
  {
   "cell_type": "code",
   "execution_count": 18,
   "metadata": {
    "colab": {
     "base_uri": "https://localhost:8080/"
    },
    "executionInfo": {
     "elapsed": 158,
     "status": "ok",
     "timestamp": 1690071854917,
     "user": {
      "displayName": "Insaaf Saheed",
      "userId": "03862033637043841962"
     },
     "user_tz": 240
    },
    "id": "O8MO7Ir3okk1",
    "outputId": "57a19fe1-ce1d-491f-b908-ca3735555ab9"
   },
   "outputs": [
    {
     "name": "stdout",
     "output_type": "stream",
     "text": [
      "(3350, 1644) (3350, 2)\n",
      "(1650, 1644) (1650, 2)\n"
     ]
    }
   ],
   "source": [
    "# Split data into train and test\n",
    "Y = pd.get_dummies(data['is_spoiler']).values\n",
    "X_train, X_test, Y_train, Y_test = train_test_split(X, Y, test_size=0.33, random_state=42)\n",
    "print(X_train.shape, Y_train.shape)\n",
    "print(X_test.shape, Y_test.shape)"
   ]
  },
  {
   "cell_type": "code",
   "execution_count": 19,
   "metadata": {
    "id": "ZL9Hs4SGL-Ov"
   },
   "outputs": [],
   "source": [
    "batch_size = 32\n",
    "steps_per_epoch = len(X_train) // batch_size\n",
    "\n",
    "# Define a data generator to load and process the data in batches\n",
    "def data_generator(X, Y, batch_size):\n",
    "    num_samples = len(X)\n",
    "    indices = np.arange(num_samples)\n",
    "    while True:\n",
    "        np.random.shuffle(indices)\n",
    "        for start in range(0, num_samples, batch_size):\n",
    "            end = min(start + batch_size, num_samples)\n",
    "            batch_indices = indices[start:end]\n",
    "            batch_X = X[batch_indices]\n",
    "            batch_Y = Y[batch_indices]\n",
    "            yield batch_X, batch_Y"
   ]
  },
  {
   "cell_type": "code",
   "execution_count": null,
   "metadata": {
    "colab": {
     "base_uri": "https://localhost:8080/"
    },
    "executionInfo": {
     "elapsed": 7349109,
     "status": "ok",
     "timestamp": 1690079209079,
     "user": {
      "displayName": "Insaaf Saheed",
      "userId": "03862033637043841962"
     },
     "user_tz": 240
    },
    "id": "33wnqsgTMVfm",
    "outputId": "19255e69-4a02-4b21-d598-eafbfc53b3cb"
   },
   "outputs": [
    {
     "name": "stdout",
     "output_type": "stream",
     "text": [
      "Epoch 1/7\n",
      "104/104 [==============================] - 1060s 10s/step - loss: 0.5969 - accuracy: 0.7251\n",
      "Epoch 2/7\n",
      "104/104 [==============================] - 1040s 10s/step - loss: 0.5628 - accuracy: 0.7360\n",
      "Epoch 3/7\n",
      "104/104 [==============================] - 1036s 10s/step - loss: 0.5086 - accuracy: 0.7556\n",
      "Epoch 4/7\n",
      "104/104 [==============================] - 1047s 10s/step - loss: 0.4268 - accuracy: 0.8053\n",
      "Epoch 5/7\n",
      "104/104 [==============================] - 1048s 10s/step - loss: 0.3432 - accuracy: 0.8571\n",
      "Epoch 6/7\n",
      "104/104 [==============================] - 1047s 10s/step - loss: 0.2929 - accuracy: 0.8807\n",
      "Epoch 7/7\n",
      "104/104 [==============================] - 1062s 10s/step - loss: 0.2237 - accuracy: 0.9144\n"
     ]
    },
    {
     "data": {
      "text/plain": [
       "<keras.callbacks.History at 0x7c5707d582b0>"
      ]
     },
     "execution_count": 12,
     "metadata": {},
     "output_type": "execute_result"
    }
   ],
   "source": [
    "# Train model\n",
    "model.fit(data_generator(X_train, Y_train, batch_size),\n",
    "                    steps_per_epoch=steps_per_epoch,\n",
    "                    epochs=7)"
   ]
  },
  {
   "cell_type": "code",
   "execution_count": null,
   "metadata": {
    "id": "IJqu9jBnMX40"
   },
   "outputs": [],
   "source": [
    "# Save the model\n",
    "model.save('/content/gdrive/My Drive/SpoilerBlockerExt/spoiler_detection_model.h5')"
   ]
  }
 ],
 "metadata": {
  "colab": {
   "authorship_tag": "ABX9TyPptrViJ4TnmmnnahSoN0n9",
   "provenance": []
  },
  "kernelspec": {
   "display_name": "Python 3 (ipykernel)",
   "language": "python",
   "name": "python3"
  },
  "language_info": {
   "codemirror_mode": {
    "name": "ipython",
    "version": 3
   },
   "file_extension": ".py",
   "mimetype": "text/x-python",
   "name": "python",
   "nbconvert_exporter": "python",
   "pygments_lexer": "ipython3",
   "version": "3.9.13"
  }
 },
 "nbformat": 4,
 "nbformat_minor": 1
}
