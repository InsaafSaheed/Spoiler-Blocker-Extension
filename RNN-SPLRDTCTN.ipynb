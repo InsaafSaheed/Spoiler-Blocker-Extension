{
 "cells": [
  {
   "cell_type": "code",
   "execution_count": 6,
   "id": "dbc83e6a",
   "metadata": {},
   "outputs": [],
   "source": [
    "import pandas as pd\n",
    "import numpy as np\n",
    "from keras.preprocessing.text import Tokenizer\n",
    "from keras_preprocessing.sequence import pad_sequences\n",
    "from keras.models import Sequential\n",
    "from keras.layers import Dense, Embedding, LSTM, SpatialDropout1D\n",
    "from sklearn.model_selection import train_test_split\n",
    "from keras.utils.np_utils import to_categorical\n",
    "\n",
    "from tqdm import tqdm\n",
    "tqdm.pandas()"
   ]
  },
  {
   "cell_type": "code",
   "execution_count": 2,
   "id": "2fde5075",
   "metadata": {},
   "outputs": [],
   "source": [
    "movie_details = pd.read_json('IMDB_movie_details.json', lines=True)\n",
    "reviews = pd.read_json('IMDB_reviews.json', lines=True)"
   ]
  },
  {
   "cell_type": "code",
   "execution_count": 3,
   "id": "a2be29dd",
   "metadata": {},
   "outputs": [],
   "source": [
    "data = pd.merge(movie_details, reviews, on='movie_id')"
   ]
  },
  {
   "cell_type": "code",
   "execution_count": 4,
   "id": "7e789976",
   "metadata": {},
   "outputs": [],
   "source": [
    "data = data[['review_text', 'is_spoiler']]"
   ]
  },
  {
   "cell_type": "code",
   "execution_count": 7,
   "id": "cb8cd460",
   "metadata": {},
   "outputs": [
    {
     "name": "stderr",
     "output_type": "stream",
     "text": [
      "Fitting tokenizer: 100%|█████████████████████████████████████████████████████| 573906/573906 [05:41<00:00, 1680.95it/s]\n",
      "Converting texts to sequences: 100%|█████████████████████████████████████████| 573906/573906 [04:39<00:00, 2051.43it/s]\n"
     ]
    }
   ],
   "source": [
    "max_features = 5000\n",
    "tokenizer = Tokenizer(num_words=max_features, split=' ')\n",
    "texts = tqdm(data['review_text'].values, desc='Fitting tokenizer')\n",
    "tokenizer.fit_on_texts(texts)\n",
    "texts = tqdm(data['review_text'].values, desc='Converting texts to sequences')\n",
    "X = list(tokenizer.texts_to_sequences(texts))\n",
    "X = pad_sequences(X)"
   ]
  },
  {
   "cell_type": "code",
   "execution_count": 8,
   "id": "097b0000",
   "metadata": {},
   "outputs": [],
   "source": [
    "embed_dim = 128\n",
    "lstm_out = 196"
   ]
  },
  {
   "cell_type": "code",
   "execution_count": 9,
   "id": "96a74999",
   "metadata": {},
   "outputs": [],
   "source": [
    "model = Sequential()\n",
    "model.add(Embedding(max_features, embed_dim, input_length = X.shape[1]))\n",
    "model.add(SpatialDropout1D(0.4))\n",
    "model.add(LSTM(lstm_out, dropout=0.2, recurrent_dropout=0.2))\n",
    "model.add(Dense(2, activation='softmax')) # We use softmax for multi-class classification, change to sigmoid for binary classification\n",
    "model.compile(loss='categorical_crossentropy', optimizer='adam', metrics=['accuracy'])"
   ]
  },
  {
   "cell_type": "code",
   "execution_count": 10,
   "id": "c5243a02",
   "metadata": {},
   "outputs": [
    {
     "name": "stdout",
     "output_type": "stream",
     "text": [
      "(384517, 2519) (384517, 2)\n",
      "(189389, 2519) (189389, 2)\n"
     ]
    }
   ],
   "source": [
    "# Split data into train and test\n",
    "Y = pd.get_dummies(data['is_spoiler']).values\n",
    "X_train, X_test, Y_train, Y_test = train_test_split(X, Y, test_size=0.33, random_state=42)\n",
    "print(X_train.shape, Y_train.shape)\n",
    "print(X_test.shape, Y_test.shape)"
   ]
  },
  {
   "cell_type": "code",
   "execution_count": null,
   "id": "3780c51b",
   "metadata": {},
   "outputs": [],
   "source": [
    "# Train model\n",
    "batch_size = 32\n",
    "model.fit(X_train, Y_train, epochs=7, batch_size=batch_size, verbose=2)"
   ]
  },
  {
   "cell_type": "code",
   "execution_count": null,
   "id": "9c4acdfc",
   "metadata": {},
   "outputs": [],
   "source": [
    "# Save the model\n",
    "model.save('spoiler_detection_model.h5')"
   ]
  }
 ],
 "metadata": {
  "kernelspec": {
   "display_name": "Python 3 (ipykernel)",
   "language": "python",
   "name": "python3"
  },
  "language_info": {
   "codemirror_mode": {
    "name": "ipython",
    "version": 3
   },
   "file_extension": ".py",
   "mimetype": "text/x-python",
   "name": "python",
   "nbconvert_exporter": "python",
   "pygments_lexer": "ipython3",
   "version": "3.9.13"
  }
 },
 "nbformat": 4,
 "nbformat_minor": 5
}
